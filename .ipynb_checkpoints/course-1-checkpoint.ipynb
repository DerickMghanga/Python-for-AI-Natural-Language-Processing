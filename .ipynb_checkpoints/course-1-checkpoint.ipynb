{
 "cells": [
  {
   "cell_type": "code",
   "execution_count": 4,
   "id": "5c03688f-7c9b-42bb-90fe-b182a4aa870c",
   "metadata": {},
   "outputs": [],
   "source": [
    "import pandas as pd"
   ]
  },
  {
   "cell_type": "code",
   "execution_count": 5,
   "id": "dc7a4e7c-13ba-4039-b156-1e484989d33b",
   "metadata": {},
   "outputs": [
    {
     "data": {
      "text/plain": [
       "(50000, 2)"
      ]
     },
     "execution_count": 5,
     "metadata": {},
     "output_type": "execute_result"
    }
   ],
   "source": [
    "df = pd.read_csv(\"imdb-dataset.csv\")\n",
    "df.head(20)\n",
    "df.shape"
   ]
  },
  {
   "cell_type": "code",
   "execution_count": 6,
   "id": "945f7e3a-95ab-4a79-b5af-cf842a92dc57",
   "metadata": {},
   "outputs": [
    {
     "data": {
      "text/plain": [
       "\"basically there's a family where a little boy (jake) thinks there's a zombie in his closet & his parents are fighting all the time.<br /><br />this movie is slower than a soap opera... and suddenly, jake decides to become rambo and kill the zombie.<br /><br />ok, first of all when you're going to make a film you must decide if its a thriller or a drama! as a drama the movie is watchable. parents are divorcing & arguing like in real life. and then we have jake with his closet which totally ruins all the film! i expected to see a boogeyman similar movie, and instead i watched a drama with some meaningless thriller spots.<br /><br />3 out of 10 just for the well playing parents & descent dialogs. as for the shots with jake: just ignore them.\""
      ]
     },
     "execution_count": 6,
     "metadata": {},
     "output_type": "execute_result"
    }
   ],
   "source": [
    "# change all texts to lowercase\n",
    "df['review'] = df['review'].str.lower()\n",
    "df.head(20)\n",
    "df['review'][3]"
   ]
  },
  {
   "cell_type": "code",
   "execution_count": 7,
   "id": "c4fc0111-4f63-446d-8c72-e92040acb464",
   "metadata": {},
   "outputs": [],
   "source": [
    "# Remove all HTML tags\n",
    "import re\n",
    "\n",
    "def remove_html_tags(text):\n",
    "    pattern = re.compile('<.*?>')\n",
    "    return pattern.sub(r'', text)"
   ]
  },
  {
   "cell_type": "code",
   "execution_count": 8,
   "id": "92689ac3-d1f9-4597-a951-d89684226488",
   "metadata": {},
   "outputs": [
    {
     "data": {
      "text/plain": [
       "\"basically there's a family where a little boy (jake) thinks there's a zombie in his closet & his parents are fighting all the time.this movie is slower than a soap opera... and suddenly, jake decides to become rambo and kill the zombie.ok, first of all when you're going to make a film you must decide if its a thriller or a drama! as a drama the movie is watchable. parents are divorcing & arguing like in real life. and then we have jake with his closet which totally ruins all the film! i expected to see a boogeyman similar movie, and instead i watched a drama with some meaningless thriller spots.3 out of 10 just for the well playing parents & descent dialogs. as for the shots with jake: just ignore them.\""
      ]
     },
     "execution_count": 8,
     "metadata": {},
     "output_type": "execute_result"
    }
   ],
   "source": [
    "df['review'] = df['review'].apply(remove_html_tags)\n",
    "#df.head(10)\n",
    "df['review'][3]"
   ]
  },
  {
   "cell_type": "code",
   "execution_count": 9,
   "id": "ec2e09e3-521a-4367-a8c5-6eb911aa78c5",
   "metadata": {},
   "outputs": [],
   "source": [
    "# remove all URLs\n",
    "def remove_url(text):\n",
    "    pattern = re.compile(r'https?://\\S+|www\\.\\S+')\n",
    "    return pattern.sub(r'', text)"
   ]
  },
  {
   "cell_type": "code",
   "execution_count": 10,
   "id": "60c10317-41f3-4c86-8aad-76a46d8e3905",
   "metadata": {},
   "outputs": [
    {
     "data": {
      "text/html": [
       "<div>\n",
       "<style scoped>\n",
       "    .dataframe tbody tr th:only-of-type {\n",
       "        vertical-align: middle;\n",
       "    }\n",
       "\n",
       "    .dataframe tbody tr th {\n",
       "        vertical-align: top;\n",
       "    }\n",
       "\n",
       "    .dataframe thead th {\n",
       "        text-align: right;\n",
       "    }\n",
       "</style>\n",
       "<table border=\"1\" class=\"dataframe\">\n",
       "  <thead>\n",
       "    <tr style=\"text-align: right;\">\n",
       "      <th></th>\n",
       "      <th>review</th>\n",
       "      <th>sentiment</th>\n",
       "    </tr>\n",
       "  </thead>\n",
       "  <tbody>\n",
       "    <tr>\n",
       "      <th>0</th>\n",
       "      <td>one of the other reviewers has mentioned that ...</td>\n",
       "      <td>positive</td>\n",
       "    </tr>\n",
       "    <tr>\n",
       "      <th>1</th>\n",
       "      <td>a wonderful little production. the filming tec...</td>\n",
       "      <td>positive</td>\n",
       "    </tr>\n",
       "    <tr>\n",
       "      <th>2</th>\n",
       "      <td>i thought this was a wonderful way to spend ti...</td>\n",
       "      <td>positive</td>\n",
       "    </tr>\n",
       "    <tr>\n",
       "      <th>3</th>\n",
       "      <td>basically there's a family where a little boy ...</td>\n",
       "      <td>negative</td>\n",
       "    </tr>\n",
       "    <tr>\n",
       "      <th>4</th>\n",
       "      <td>petter mattei's \"love in the time of money\" is...</td>\n",
       "      <td>positive</td>\n",
       "    </tr>\n",
       "    <tr>\n",
       "      <th>5</th>\n",
       "      <td>probably my all-time favorite movie, a story o...</td>\n",
       "      <td>positive</td>\n",
       "    </tr>\n",
       "    <tr>\n",
       "      <th>6</th>\n",
       "      <td>i sure would like to see a resurrection of a u...</td>\n",
       "      <td>positive</td>\n",
       "    </tr>\n",
       "    <tr>\n",
       "      <th>7</th>\n",
       "      <td>this show was an amazing, fresh &amp; innovative i...</td>\n",
       "      <td>negative</td>\n",
       "    </tr>\n",
       "    <tr>\n",
       "      <th>8</th>\n",
       "      <td>encouraged by the positive comments about this...</td>\n",
       "      <td>negative</td>\n",
       "    </tr>\n",
       "    <tr>\n",
       "      <th>9</th>\n",
       "      <td>if you like original gut wrenching laughter yo...</td>\n",
       "      <td>positive</td>\n",
       "    </tr>\n",
       "  </tbody>\n",
       "</table>\n",
       "</div>"
      ],
      "text/plain": [
       "                                              review sentiment\n",
       "0  one of the other reviewers has mentioned that ...  positive\n",
       "1  a wonderful little production. the filming tec...  positive\n",
       "2  i thought this was a wonderful way to spend ti...  positive\n",
       "3  basically there's a family where a little boy ...  negative\n",
       "4  petter mattei's \"love in the time of money\" is...  positive\n",
       "5  probably my all-time favorite movie, a story o...  positive\n",
       "6  i sure would like to see a resurrection of a u...  positive\n",
       "7  this show was an amazing, fresh & innovative i...  negative\n",
       "8  encouraged by the positive comments about this...  negative\n",
       "9  if you like original gut wrenching laughter yo...  positive"
      ]
     },
     "execution_count": 10,
     "metadata": {},
     "output_type": "execute_result"
    }
   ],
   "source": [
    "df['review'] = df['review'].apply(remove_url)\n",
    "df.head(10)"
   ]
  },
  {
   "cell_type": "code",
   "execution_count": 11,
   "id": "bdcee724-2b33-40dc-aba2-bdfd2ed8e361",
   "metadata": {},
   "outputs": [
    {
     "name": "stdout",
     "output_type": "stream",
     "text": [
      "!\"#$%&'()*+,-./:;<=>?@[\\]^_`{|}~\n"
     ]
    }
   ],
   "source": [
    "# Punctuation handling\n",
    "import string, time\n",
    "\n",
    "exclude = string.punctuation\n",
    "print(exclude)\n",
    "\n",
    "def remove_punc(text):\n",
    "    return text.translate(str.maketrans('','',exclude))"
   ]
  },
  {
   "cell_type": "code",
   "execution_count": 12,
   "id": "db9c6c42-8b2b-4f90-b23a-cb626fd4babc",
   "metadata": {},
   "outputs": [],
   "source": [
    "#print(df['review'][3])\n",
    "df['review'] = df['review'].apply(remove_punc)\n",
    "#df['review'][3]"
   ]
  },
  {
   "cell_type": "code",
   "execution_count": 13,
   "id": "3e7bc970-e402-4db6-b147-43c3e179d8c3",
   "metadata": {},
   "outputs": [],
   "source": [
    "# Social media chat words\n",
    "chat_words = {\n",
    "    'FYI':'For Your Information',\n",
    "    'ASAP': 'As Soon As Possible',\n",
    "    'BRB': 'Be Right Back',\n",
    "    'BTW':'By The Way',\n",
    "    'OMG':'Oh My God',\n",
    "    'IMO':'In My Opinion',\n",
    "    'LOL':'Laugh Out Loud',\n",
    "    'TTYL':'Talk To You Later',\n",
    "    'GTG':'Got To Go',\n",
    "    'TTYT':'Talk To You Tomorrow',\n",
    "    'IDK':\"I Don't Know\",\n",
    "    'TMI':'Too Much Information',\n",
    "    'IMHO':'In My Humble Opinion',\n",
    "    'ICYMI':'In Case You Missed It',\n",
    "    'AFAIK':'As Far As I Know',\n",
    "    'BTW':'By The Way',\n",
    "    'FAQ':'Frequently Asked Questions',\n",
    "    'TGIF':\"Thank God It's Friday\",\n",
    "    'FYA':'For Your Action',\n",
    "    'ICYMI':'In Case You Missed It',\n",
    "}"
   ]
  },
  {
   "cell_type": "code",
   "execution_count": 14,
   "id": "57ecba90-5a50-41ac-a69b-1a3276cf1e8c",
   "metadata": {},
   "outputs": [],
   "source": [
    "def chat_conversion(text):\n",
    "    new_text = []\n",
    "    for w in text.split():\n",
    "        if w.upper() in chat_words:\n",
    "            new_text.append(chat_words[w.upper()])\n",
    "        else:\n",
    "            new_text.append(w)\n",
    "    return \" \".join(new_text)"
   ]
  },
  {
   "cell_type": "code",
   "execution_count": 15,
   "id": "ee48418e-3503-45b6-9d2e-bea5d6ec84a3",
   "metadata": {},
   "outputs": [
    {
     "data": {
      "text/plain": [
       "'Do this work As Soon As Possible'"
      ]
     },
     "execution_count": 15,
     "metadata": {},
     "output_type": "execute_result"
    }
   ],
   "source": [
    "# Example\n",
    "chat_conversion('Do this work ASAP')\n"
   ]
  },
  {
   "cell_type": "code",
   "execution_count": 16,
   "id": "75eaa31b-cef2-4ce6-8363-34df73c0d516",
   "metadata": {},
   "outputs": [],
   "source": [
    "df['review'] = df['review'].apply(chat_conversion)"
   ]
  },
  {
   "cell_type": "code",
   "execution_count": 37,
   "id": "52a3d173-964c-437d-930c-c3937f5a3661",
   "metadata": {
    "scrolled": true
   },
   "outputs": [
    {
     "name": "stdout",
     "output_type": "stream",
     "text": [
      "Collecting textblob\n",
      "  Downloading textblob-0.18.0.post0-py3-none-any.whl.metadata (4.5 kB)\n",
      "Requirement already satisfied: nltk>=3.8 in c:\\users\\admin\\anaconda3\\lib\\site-packages (from textblob) (3.8.1)\n",
      "Requirement already satisfied: click in c:\\users\\admin\\anaconda3\\lib\\site-packages (from nltk>=3.8->textblob) (8.1.7)\n",
      "Requirement already satisfied: joblib in c:\\users\\admin\\anaconda3\\lib\\site-packages (from nltk>=3.8->textblob) (1.2.0)\n",
      "Requirement already satisfied: regex>=2021.8.3 in c:\\users\\admin\\anaconda3\\lib\\site-packages (from nltk>=3.8->textblob) (2023.10.3)\n",
      "Requirement already satisfied: tqdm in c:\\users\\admin\\anaconda3\\lib\\site-packages (from nltk>=3.8->textblob) (4.65.0)\n",
      "Requirement already satisfied: colorama in c:\\users\\admin\\anaconda3\\lib\\site-packages (from click->nltk>=3.8->textblob) (0.4.6)\n",
      "Downloading textblob-0.18.0.post0-py3-none-any.whl (626 kB)\n",
      "   ---------------------------------------- 0.0/626.3 kB ? eta -:--:--\n",
      "    --------------------------------------- 10.2/626.3 kB ? eta -:--:--\n",
      "   - ------------------------------------- 30.7/626.3 kB 435.7 kB/s eta 0:00:02\n",
      "   - ------------------------------------- 30.7/626.3 kB 435.7 kB/s eta 0:00:02\n",
      "   - ------------------------------------- 30.7/626.3 kB 435.7 kB/s eta 0:00:02\n",
      "   -- ------------------------------------ 41.0/626.3 kB 151.3 kB/s eta 0:00:04\n",
      "   ---- ---------------------------------- 71.7/626.3 kB 245.8 kB/s eta 0:00:03\n",
      "   ------ ------------------------------- 112.6/626.3 kB 344.8 kB/s eta 0:00:02\n",
      "   ------ ------------------------------- 112.6/626.3 kB 344.8 kB/s eta 0:00:02\n",
      "   ------- ------------------------------ 122.9/626.3 kB 288.8 kB/s eta 0:00:02\n",
      "   ---------- --------------------------- 174.1/626.3 kB 361.7 kB/s eta 0:00:02\n",
      "   -------------- ----------------------- 235.5/626.3 kB 465.5 kB/s eta 0:00:01\n",
      "   -------------- ----------------------- 235.5/626.3 kB 465.5 kB/s eta 0:00:01\n",
      "   ---------------- --------------------- 276.5/626.3 kB 449.0 kB/s eta 0:00:01\n",
      "   ---------------------- --------------- 368.6/626.3 kB 560.0 kB/s eta 0:00:01\n",
      "   ------------------------ ------------- 399.4/626.3 kB 593.2 kB/s eta 0:00:01\n",
      "   ------------------------ ------------- 399.4/626.3 kB 593.2 kB/s eta 0:00:01\n",
      "   ------------------------ ------------- 399.4/626.3 kB 593.2 kB/s eta 0:00:01\n",
      "   ------------------------ ------------- 399.4/626.3 kB 593.2 kB/s eta 0:00:01\n",
      "   -------------------------- ----------- 440.3/626.3 kB 510.2 kB/s eta 0:00:01\n",
      "   -------------------------------------- 626.3/626.3 kB 668.2 kB/s eta 0:00:00\n",
      "Installing collected packages: textblob\n",
      "Successfully installed textblob-0.18.0.post0\n",
      "Note: you may need to restart the kernel to use updated packages.\n"
     ]
    }
   ],
   "source": [
    "#pip install textblob"
   ]
  },
  {
   "cell_type": "code",
   "execution_count": null,
   "id": "26a07714-c9b8-456e-84be-4913a831572a",
   "metadata": {},
   "outputs": [],
   "source": [
    "# Incorrect text handling\n",
    "from textblob import TextBlob\n",
    "\n",
    "def correct_words(text):\n",
    "    textBlb = TextBlob(text)\n",
    "    return textBlb.correct().string\n",
    "\n",
    "# example\n",
    "incorrect_text = 'ceertain conditionas duriing seveal ggenerations aree moodified in the same manner'\n",
    "correct_words(incorrect_text)"
   ]
  },
  {
   "cell_type": "code",
   "execution_count": null,
   "id": "67c34bf0-1d1b-42d4-a748-094d2847d4d4",
   "metadata": {},
   "outputs": [],
   "source": [
    "# remove correct grammarticall incorrect words\n",
    "df['review'] = df['review'].apply(correct_words)"
   ]
  },
  {
   "cell_type": "code",
   "execution_count": null,
   "id": "7807467e-882e-43f3-b7fd-e47925f32ea4",
   "metadata": {},
   "outputs": [],
   "source": [
    "from nltk.corpus import stopwords\n",
    "import nltk\n",
    "\n",
    "nltk.download('stopwords')\n",
    "len(stopwords.words('english'))"
   ]
  },
  {
   "cell_type": "code",
   "execution_count": null,
   "id": "bb4b6e93-dc98-4bb4-b8eb-24b2568ce751",
   "metadata": {},
   "outputs": [],
   "source": [
    "def remove_stopwords(text):\n",
    "    new_text = []\n",
    "    for word in text.split():\n",
    "        if word in stopwords.words('english'):\n",
    "            new_text.append('')\n",
    "        else:\n",
    "            new_text.append(word)\n",
    "    x = new_text[:]\n",
    "    new_text.clear()\n",
    "    return \" \".join(x)\n",
    "\n",
    "# example\n",
    "remove_stopwords(\"probably my all-time favourite movie, a story of selflessness, sacrifice and dedication\")"
   ]
  },
  {
   "cell_type": "code",
   "execution_count": null,
   "id": "e2d040aa-487c-4e53-9f85-94146326bf21",
   "metadata": {},
   "outputs": [],
   "source": [
    "# remove correct grammarticall incorrect words\n",
    "df['review'] = df['review'].apply(remove_stopwords)"
   ]
  },
  {
   "cell_type": "code",
   "execution_count": null,
   "id": "d1db4975-a104-478a-a59a-d74aba275366",
   "metadata": {},
   "outputs": [],
   "source": [
    "print('hello')"
   ]
  }
 ],
 "metadata": {
  "kernelspec": {
   "display_name": "Python 3 (ipykernel)",
   "language": "python",
   "name": "python3"
  },
  "language_info": {
   "codemirror_mode": {
    "name": "ipython",
    "version": 3
   },
   "file_extension": ".py",
   "mimetype": "text/x-python",
   "name": "python",
   "nbconvert_exporter": "python",
   "pygments_lexer": "ipython3",
   "version": "3.11.7"
  }
 },
 "nbformat": 4,
 "nbformat_minor": 5
}
